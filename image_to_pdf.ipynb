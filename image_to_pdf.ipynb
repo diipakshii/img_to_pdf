{
 "cells": [
  {
   "cell_type": "code",
   "execution_count": 14,
   "metadata": {},
   "outputs": [],
   "source": [
    "# imports\n",
    "import os\n",
    "import img2pdf\n",
    "from IPython.display import IFrame, display"
   ]
  },
  {
   "cell_type": "code",
   "execution_count": 8,
   "metadata": {},
   "outputs": [],
   "source": [
    "# directories\n",
    "main_dir = '/Users/dipakshipal/Projects/image_to_pdf'\n",
    "file_dir = main_dir + '/image_examples'\n",
    "output_file = main_dir + '/output.pdf'"
   ]
  },
  {
   "cell_type": "code",
   "execution_count": 9,
   "metadata": {},
   "outputs": [],
   "source": [
    "def images_to_pdf(file_dir, output_file):\n",
    "    # check if path exists\n",
    "    if not os.path.exists(file_dir):\n",
    "        print(f\"Directory {file_dir} does not exist.\")\n",
    "        return\n",
    "    \n",
    "    # iterate through folder and add images (.jpg, .jpeg, .png, .gif) for conversion\n",
    "    images = [f for f in os.listdir(file_dir) if f.lower().endswith(('.jpg', '.jpeg', '.png', '.gif'))]\n",
    "\n",
    "    images.sort()\n",
    "\n",
    "    #debug statement\n",
    "    print(f\"Found images: {images}\")\n",
    "\n",
    "    # check if images exist in the folder\n",
    "    if not images:\n",
    "        print(\"No image files found in the directory.\")\n",
    "        return\n",
    "\n",
    "    # read each image and add its image bytes to list\n",
    "    img_bytes = list()\n",
    "\n",
    "    for image in images:\n",
    "        with open(os.path.join(file_dir, image), \"rb\") as img:\n",
    "            img_bytes.append(img.read())\n",
    "\n",
    "    # debug statement\n",
    "    # print(f\"Read {len(img_bytes)} images.\")\n",
    "\n",
    "    # convert image bytes to a single PDF file\n",
    "    try:\n",
    "        pdf_bytes = img2pdf.convert(img_bytes)\n",
    "        with open(output_file, \"wb\") as pdfFile:\n",
    "            pdfFile.write(pdf_bytes)\n",
    "        print(f\"PDF successfully created at {output_file}\")\n",
    "    except Exception as e:\n",
    "        print(f\"An error occurred during PDF creation: {e}\")\n"
   ]
  },
  {
   "cell_type": "code",
   "execution_count": 10,
   "metadata": {},
   "outputs": [
    {
     "name": "stdout",
     "output_type": "stream",
     "text": [
      "Found images: ['dog2.jpg', 'dog3.jpg']\n",
      "PDF successfully created at /Users/dipakshipal/Projects/image_to_pdf/output.pdf\n"
     ]
    }
   ],
   "source": [
    "images_to_pdf(file_dir, output_file)"
   ]
  }
 ],
 "metadata": {
  "kernelspec": {
   "display_name": ".venv",
   "language": "python",
   "name": "python3"
  },
  "language_info": {
   "codemirror_mode": {
    "name": "ipython",
    "version": 3
   },
   "file_extension": ".py",
   "mimetype": "text/x-python",
   "name": "python",
   "nbconvert_exporter": "python",
   "pygments_lexer": "ipython3",
   "version": "3.12.3"
  }
 },
 "nbformat": 4,
 "nbformat_minor": 2
}
